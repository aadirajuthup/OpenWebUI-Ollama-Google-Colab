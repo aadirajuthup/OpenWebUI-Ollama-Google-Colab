{
  "nbformat": 4,
  "nbformat_minor": 0,
  "metadata": {
    "colab": {
      "provenance": [],
      "gpuType": "T4"
    },
    "kernelspec": {
      "name": "python3",
      "display_name": "Python 3"
    },
    "language_info": {
      "name": "python"
    },
    "accelerator": "GPU"
  },
  "cells": [
    {
      "cell_type": "code",
      "source": [
        "# @title Check GPU\n",
        "!nvidia-smi"
      ],
      "metadata": {
        "id": "-E78CmLLpxxJ",
        "cellView": "form"
      },
      "execution_count": null,
      "outputs": []
    },
    {
      "cell_type": "markdown",
      "source": [
        "## Commands for Reference\n",
        "```bash\n",
        "curl -fsSL https://ollama.com/install.sh | sh\n",
        "nohup ollama serve &\n",
        "open-webui serve --port 8181 &\n",
        "ngrok http 8181\n",
        "```"
      ],
      "metadata": {
        "id": "1fUl280StNBa"
      }
    },
    {
      "cell_type": "code",
      "source": [
        "#@title Server Setup\n",
        "ngrok_authtoken = \"\" # @param {\"type\":\"string\"}\n",
        "!pip install colab-xterm\n",
        "%load_ext colabxterm\n",
        "%xterm\n",
        "!sudo apt-get update -y\n",
        "!sudo apt install python3.11 python3.11-dev python3.11-distutils libpython3.11-dev python3-pip -y\n",
        "!sudo update-alternatives --install /usr/bin/python3 python3 /usr/bin/python3.10 1\n",
        "!sudo update-alternatives --install /usr/bin/python3 python3 /usr/bin/python3.11 2\n",
        "!pip install build setuptools wheel\n",
        "!pip install --upgrade pip setuptools wheel\n",
        "!pip install --ignore-installed open-webui\n",
        "!wget https://bin.equinox.io/c/bNyj1mQVY4c/ngrok-v3-stable-linux-amd64.tgz\n",
        "!sudo tar -xvzf ./ngrok-v3-stable-linux-amd64.tgz -C /usr/local/bin\n",
        "get_ipython().system(f'ngrok config add-authtoken {ngrok_authtoken}')"
      ],
      "metadata": {
        "cellView": "form",
        "id": "OYSY-F_v9tp4"
      },
      "execution_count": null,
      "outputs": []
    },
    {
      "cell_type": "code",
      "source": [
        "#@title Download model\n",
        "model_input = \"\"  # @param {\"type\":\"string\",\"placeholder\":\"llama3.2-vision:11b,llava:13b,phi3:14b,llama3.1:8b,dolphin3\"}\n",
        "\n",
        "if model_input:\n",
        "    models = model_input.split(',')\n",
        "    for model in models:\n",
        "      model = model.strip()  # remove leading/trailing whitespace\n",
        "      command = f\"ollama pull {model}\"\n",
        "      get_ipython().system(command)\n",
        "else:\n",
        "    print(\"Please enter at least one model to pull\")"
      ],
      "metadata": {
        "cellView": "form",
        "id": "-ed29ta3pEkc"
      },
      "execution_count": null,
      "outputs": []
    }
  ]
}